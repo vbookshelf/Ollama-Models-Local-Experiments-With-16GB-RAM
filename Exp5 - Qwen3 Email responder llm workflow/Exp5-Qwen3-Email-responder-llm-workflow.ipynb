{
 "cells": [
  {
   "cell_type": "code",
   "execution_count": null,
   "metadata": {
    "id": "gsE5rhFuCiQj"
   },
   "outputs": [],
   "source": [
    "# Ref:\n",
    "# YouTube Video\n",
    "# Sam Witteveen\n",
    "# Creating an AI Agent with LangGraph Llama 3 & Groq\n",
    "# https://www.youtube.com/watch?v=lvQ96Ssesfk"
   ]
  },
  {
   "cell_type": "code",
   "execution_count": null,
   "metadata": {
    "id": "yRd5X-eQC6hp"
   },
   "outputs": [],
   "source": []
  },
  {
   "cell_type": "code",
   "execution_count": 1,
   "metadata": {
    "id": "EdY2JYCQePWH"
   },
   "outputs": [],
   "source": [
    "import json\n",
    "import os\n",
    "import re\n",
    "\n",
    "from ollama import chat\n",
    "from ollama import ChatResponse"
   ]
  },
  {
   "cell_type": "code",
   "execution_count": 27,
   "metadata": {},
   "outputs": [],
   "source": [
    "MODEL_NAME = 'qwen3:14b' # qwen3:4b, qwen3:8b, qwen3:14b"
   ]
  },
  {
   "cell_type": "markdown",
   "metadata": {
    "id": "Cqxrj_T6C_z1"
   },
   "source": [
    "# Define the API clients"
   ]
  },
  {
   "cell_type": "code",
   "execution_count": 3,
   "metadata": {
    "id": "PzAyFOnWC_d9"
   },
   "outputs": [],
   "source": [
    "from dotenv import load_dotenv\n",
    "import os\n",
    "\n",
    "load_dotenv(os.path.expanduser(\"~/Desktop/dot-env-api-keys/my-api-keys.env\"))\n",
    "\n",
    "TAVILY_API_KEY = os.getenv(\"TAVILY_API_KEY\")"
   ]
  },
  {
   "cell_type": "code",
   "execution_count": 4,
   "metadata": {},
   "outputs": [],
   "source": [
    "# Tavily web search\n",
    "\n",
    "from tavily import TavilyClient\n",
    "\n",
    "tavily_client = TavilyClient(api_key=TAVILY_API_KEY)"
   ]
  },
  {
   "cell_type": "markdown",
   "metadata": {
    "id": "2Ox3Pq34Eq8I"
   },
   "source": [
    "# What is the objective?\n",
    "\n",
    "- Get an email from a customer\n",
    "- Categorize the email\n",
    "- Decide if research is needed before replying\n",
    "- Do research if needed\n",
    "- Write a draft reply"
   ]
  },
  {
   "cell_type": "code",
   "execution_count": null,
   "metadata": {
    "id": "eXpFe86y6DOF"
   },
   "outputs": [],
   "source": []
  },
  {
   "cell_type": "markdown",
   "metadata": {
    "id": "33Z_T0CgFYif"
   },
   "source": [
    "# Create a list of agents\n",
    "\n",
    "AGENTS\n",
    "1. email_cat_agent\n",
    "2. router_agent (route to research_agent or email_writer_agent)\n",
    "3. research_agent\n",
    "4. email_writer_agent\n",
    "\n",
    "TOOLS\n",
    "- Tavily search (used by research_agent)\n"
   ]
  },
  {
   "cell_type": "markdown",
   "metadata": {
    "id": "LwW76J3yJ5QN"
   },
   "source": [
    "# Helper functions"
   ]
  },
  {
   "cell_type": "code",
   "execution_count": 5,
   "metadata": {
    "id": "W3YQhpBeJ69J"
   },
   "outputs": [],
   "source": [
    "def write_markdown_file(content, filename):\n",
    "  \"\"\"Writes the given content as a markdown file to the local directory.\n",
    "\n",
    "  Args:\n",
    "    content: The string content to write to the file.\n",
    "    filename: The filename to save the file as.\n",
    "  \"\"\"\n",
    "  with open(f\"{filename}.md\", \"w\") as f:\n",
    "    f.write(content)\n"
   ]
  },
  {
   "cell_type": "code",
   "execution_count": 9,
   "metadata": {},
   "outputs": [],
   "source": [
    "def initialize_message_history(system_message):\n",
    "\n",
    "    message_history = [\n",
    "                        {\n",
    "                            \"role\": \"system\",\n",
    "                            \"content\": system_message\n",
    "                        }\n",
    "                    ]\n",
    "\n",
    "    return message_history"
   ]
  },
  {
   "cell_type": "code",
   "execution_count": 7,
   "metadata": {
    "id": "1pl8ksbbeuSD"
   },
   "outputs": [],
   "source": [
    "def create_message_history(system_message, user_input):\n",
    "\n",
    "    \"\"\"\n",
    "    Create a message history messages list.\n",
    "    Args:\n",
    "        system_message (str): The system message\n",
    "        user_query (str): The user input\n",
    "    Returns:\n",
    "        A list of dicts in OpenAi chat format\n",
    "    \"\"\"\n",
    "\n",
    "    message_history = [\n",
    "                        {\n",
    "                            \"role\": \"system\",\n",
    "                            \"content\": system_message\n",
    "                        },\n",
    "                        {\n",
    "                            \"role\": \"user\",\n",
    "                            \"content\": user_input\n",
    "                        }\n",
    "                    ]\n",
    "\n",
    "    return message_history\n",
    "\n"
   ]
  },
  {
   "cell_type": "code",
   "execution_count": 8,
   "metadata": {
    "colab": {
     "base_uri": "https://localhost:8080/"
    },
    "id": "sr9MDRB2LKf2",
    "outputId": "0feeb207-1660-4695-b051-cb46e8916a40"
   },
   "outputs": [
    {
     "name": "stdout",
     "output_type": "stream",
     "text": [
      "some-value\n"
     ]
    }
   ],
   "source": [
    "def replace_items_in_string(input_string):\n",
    "\n",
    "    \"\"\"\n",
    "    Sometimes models produce json style output strings that cannot be parsed.\n",
    "    This functon extracts the \"value\" from the json string.\n",
    "    Extracts the value from a json string.\n",
    "    Works only if the json string has one key/value pair.\n",
    "    \"\"\"\n",
    "\n",
    "    # The items in this list get replaced with nothing.\n",
    "    # The key needs to be added to this list.\n",
    "    items_to_replace = [\"```\", \"json\", \"{\", \"}\", '\"email_draft\": \"',\n",
    "                        '\"translation\": \"', '\"#\"', '\"category\": \"', '\"router_decision\": \"', \"\\\\r\"]\n",
    "\n",
    "    modified_string = input_string\n",
    "    for item in items_to_replace:\n",
    "        regex = re.compile(re.escape(item))  # Create a regex pattern for each item\n",
    "        modified_string = regex.sub(\"\", modified_string)  # Replace item with an empty string\n",
    "\n",
    "    modified_string = modified_string.strip()\n",
    "\n",
    "    # Slice to get the string from the start up to the second last character\n",
    "    if len(modified_string) > 1:\n",
    "        modified_string = modified_string[:-1]\n",
    "\n",
    "\n",
    "    return modified_string\n",
    "\n",
    "\n",
    "\n",
    "# Example usage\n",
    "input_string = '{\"email_draft\": \"some-value\"}'\n",
    "print(replace_items_in_string(input_string))"
   ]
  },
  {
   "cell_type": "markdown",
   "metadata": {
    "id": "0reljPhbezOM"
   },
   "source": [
    "# Set up the LLM"
   ]
  },
  {
   "cell_type": "code",
   "execution_count": 11,
   "metadata": {},
   "outputs": [],
   "source": [
    "# Function to separate the thinking and the response\n",
    "\n",
    "def process_response(text):\n",
    "    \n",
    "    text1 = text.split('</think>')[0]\n",
    "    text2 = text.split('</think>')[1]\n",
    "    \n",
    "    thinking_text = text1 + '</think>'\n",
    "    response_text = text2.strip()\n",
    "\n",
    "    return thinking_text, response_text"
   ]
  },
  {
   "cell_type": "code",
   "execution_count": 24,
   "metadata": {},
   "outputs": [
    {
     "name": "stdout",
     "output_type": "stream",
     "text": [
      "<think>\n",
      "Okay, the user asked, \"What's your name?\" I need to respond as Molly. Let me make sure I'm clear and friendly. I should start by stating my name directly. Maybe add a bit of personality to make the interaction more engaging. I can mention that I'm here to help with any questions they might have. Keep it simple and straightforward. No need for any extra information unless they ask. Just a polite and helpful reply.\n",
      "</think>\n",
      "Hi there! My name is Molly. I'm here to help with any questions you might have. How can I assist you today? 😊\n"
     ]
    }
   ],
   "source": [
    "def make_llm_api_call(message_history):\n",
    "\n",
    "    model_name = MODEL_NAME\n",
    "\n",
    "    response: ChatResponse = chat(model=model_name, \n",
    "                                  messages=message_history,\n",
    "                                )\n",
    "\n",
    "    output_text = response['message']['content']\n",
    "\n",
    "    thinking_text, response_text = process_response(output_text)\n",
    "\n",
    "    print(thinking_text)\n",
    "\n",
    "    return response_text\n",
    "\n",
    "\n",
    "# Example\n",
    "\n",
    "system_message = \"Your name is Molly.\"\n",
    "user_message = \"What's your name?\"\n",
    "\n",
    "message_history = create_message_history(system_message, user_message)\n",
    "\n",
    "response_text = make_llm_api_call(message_history)\n",
    "\n",
    "print(response_text)\n",
    "\n",
    "#print(response['message']['content'])"
   ]
  },
  {
   "cell_type": "markdown",
   "metadata": {
    "id": "ShdYyu_Ne7R2"
   },
   "source": [
    "# Set up the tools\n",
    "\n"
   ]
  },
  {
   "cell_type": "code",
   "execution_count": 13,
   "metadata": {
    "colab": {
     "base_uri": "https://localhost:8080/"
    },
    "id": "JDTLM9gme7ph",
    "outputId": "bde89d48-7f6e-43eb-f792-bb4e7423b5d9"
   },
   "outputs": [
    {
     "name": "stdout",
     "output_type": "stream",
     "text": [
      "{'query': 'How much does a bulldog weigh?', 'follow_up_questions': None, 'answer': None, 'images': [], 'results': [{'url': 'https://www.akc.org/dog-breeds/bulldog/', 'title': 'Bulldog Dog Breed Information - American Kennel Club', 'content': \"Bulldogs can weigh up to 50 pounds, but that won't stop them from curling up in your lap, or at least trying to.\", 'score': 0.87782305, 'raw_content': None}, {'url': 'https://www.reddit.com/r/Bulldogs/comments/1adz03m/what_does_your_bulldog_weigh/', 'title': 'What does your Bulldog weigh? - Reddit', 'content': \"Average weight I believe is 55 and 50 for males and females but they naturally vary. That's just for regular English bulldogs.\", 'score': 0.81524754, 'raw_content': None}], 'response_time': 0.78, 'request_id': '57e50c7b-4ab3-494d-a619-3ea8ac2b43dc'}\n"
     ]
    }
   ],
   "source": [
    "def run_tavily_search(query, num_results=5):\n",
    "\n",
    "    \"\"\"\n",
    "    Uses the Tavily API to run a web search\n",
    "    Args:\n",
    "        query (str): The user query\n",
    "        num_results (int): Num search results\n",
    "    Returns:\n",
    "        tav_response (json string): The search results in json format\n",
    "    \"\"\"\n",
    "\n",
    "    # For basic search:\n",
    "    tav_response = tavily_client.search(query=query, max_results=num_results)\n",
    "\n",
    "    return tav_response\n",
    "\n",
    "\n",
    "\n",
    "# Example\n",
    "\n",
    "query = \"How much does a bulldog weigh?\"\n",
    "\n",
    "results = run_tavily_search(query, num_results=2)\n",
    "\n",
    "# Use this str output in the system message example below\n",
    "# Use this instead of the Eisenhower example\n",
    "print(results)"
   ]
  },
  {
   "cell_type": "markdown",
   "metadata": {
    "id": "kGZoKXk4fDX4"
   },
   "source": [
    "# Set up the Agents"
   ]
  },
  {
   "cell_type": "code",
   "execution_count": 21,
   "metadata": {
    "colab": {
     "base_uri": "https://localhost:8080/"
    },
    "id": "c67LzbXufDJc",
    "outputId": "d56e19e4-47e5-452a-c7c5-ae36b81dc8a4"
   },
   "outputs": [
    {
     "name": "stdout",
     "output_type": "stream",
     "text": [
      "---EMAIL CAT AGENT---\n",
      "Email category: customer_feedback\n"
     ]
    }
   ],
   "source": [
    "def run_email_cat_agent(email):\n",
    "\n",
    "    print(\"---EMAIL CAT AGENT---\")\n",
    "\n",
    "    system_message = \"\"\"\n",
    "    You are a Email Categorizer Agent, You are a master at understanding what a customer wants when they write an email and are able to categorize it in a useful way.\n",
    "\n",
    "    You will be provided with an EMAIL. Conduct a comprehensive analysis of the email provided and categorize into one of the following categories:\n",
    "    price_equiry - used when someone is asking for information about pricing \\\n",
    "    customer_complaint - used when someone is complaining about something \\\n",
    "    product_enquiry - used when someone is asking for information about a product feature, benefit or service but not about pricing \\\\\n",
    "    customer_feedback - used when someone is giving feedback about a product \\\n",
    "    off_topic when it doesnt relate to any other category \\\n",
    "\n",
    "    Output a single category only from the types ('price_equiry', 'customer_complaint', 'product_enquiry', 'customer_feedback', 'off_topic').\n",
    "    Format your output as a JSON string with a key named \"category\".\n",
    "    eg:\n",
    "    {\n",
    "    \"category\": \"price_enquiry\"\n",
    "    }\n",
    "    \"\"\"\n",
    "\n",
    "    # Create the \"user\" role content\n",
    "    input_text = f\"\"\"\n",
    "    EMAIL: {email}\n",
    "    \"\"\"\n",
    "\n",
    "    # Create the message history that includes system and user roles\n",
    "    message_history = create_message_history(system_message, input_text)\n",
    "\n",
    "    # Prompt the llm\n",
    "    response = make_llm_api_call(message_history)\n",
    "\n",
    "    # Extract the response from the json string\n",
    "    response = replace_items_in_string(response)\n",
    "\n",
    "    print(\"Email category:\", response)\n",
    "\n",
    "    return response\n",
    "\n",
    "\n",
    "# Example\n",
    "\n",
    "email1 = \"\"\"HI there, \\n\n",
    "I am emailing to say that I had a wonderful stay at your resort last week. \\n\n",
    "\n",
    "I really appreaciate what your staff did\n",
    "\n",
    "Thanks,\n",
    "Paul\n",
    "\"\"\"\n",
    "\n",
    "email2 = \"\"\"Good day,\n",
    "I would like to make a booking for a haircut.\n",
    "Thanks,\n",
    "George\n",
    "\"\"\"\n",
    "\n",
    "email3 = \"\"\"Good day,\n",
    "Do you still have rooms available on Christmas day?\n",
    "Thanks,\n",
    "George\n",
    "\"\"\"\n",
    "\n",
    "email_cat = run_email_cat_agent(email1)\n",
    "\n",
    "#print(email_cat)"
   ]
  },
  {
   "cell_type": "code",
   "execution_count": 23,
   "metadata": {
    "colab": {
     "base_uri": "https://localhost:8080/"
    },
    "id": "NHOvD12NfDHX",
    "outputId": "a101c3c4-0402-4e08-d86a-2716a6c078f0"
   },
   "outputs": [
    {
     "name": "stdout",
     "output_type": "stream",
     "text": [
      "---EMAIL CAT AGENT---\n",
      "Email category: product_enquiry\n",
      "---ROUTER AGENT---\n",
      "Router decision: to_research_agent\n"
     ]
    }
   ],
   "source": [
    "def run_router_agent(email, email_cat):\n",
    "\n",
    "    print(\"---ROUTER AGENT---\")\n",
    "\n",
    "    system_message = \"\"\"\n",
    "    You are an expert at reading the initial email and routing web search or directly to a draft email. \\n\n",
    "    You will be provided with a CUSTOMER_EMAIL and an EMAIL_CATEGORY.\n",
    "\n",
    "    Use the following criteria to decide how to route the email: \\n\\n\n",
    "\n",
    "    If the initial email only requires a simple response choose 'to_email_writer_agent'.\n",
    "    If the email is just saying thank you etc then choose 'to_email_writer_agent'.\n",
    "    Otherwise, use to_research_agent.\n",
    "\n",
    "    Give a binary choice 'to_research_agent' or 'to_email_writer_agent'. Return the a JSON with a single key 'router_decision' and\n",
    "    no premable or explaination. Use both the initial email and the email category to make your decision.\n",
    "    \"\"\"\n",
    "\n",
    "    input = f\"\"\"\n",
    "    CUSTOMER_EMAIL: {email}\n",
    "    EMAIL_CATEGORY: {email_cat}\n",
    "    \"\"\"\n",
    "\n",
    "    # Create the message history that includes system and user roles\n",
    "    message_history = create_message_history(system_message, input)\n",
    "\n",
    "    # Prompt the llm\n",
    "    response = make_llm_api_call(message_history)\n",
    "\n",
    "    # Extract the response from the json string\n",
    "    response = replace_items_in_string(response)\n",
    "\n",
    "    print(\"Router decision:\", response)\n",
    "\n",
    "    return response\n",
    "\n",
    "\n",
    "\n",
    "# Example\n",
    "\n",
    "email1 = \"\"\"HI there, \\n\n",
    "I am emailing to say that I had a wonderful stay at your resort last week. \\n\n",
    "\n",
    "I really appreaciate what your staff did\n",
    "\n",
    "Thanks,\n",
    "Paul\n",
    "\"\"\"\n",
    "\n",
    "email2 = \"\"\"HI there, \\n\n",
    "I am emailing to say that I had a wonderful stay at your resort last week. \\n\n",
    "\n",
    "I really appreaciate what your staff did. \n",
    "\n",
    "By the way, when is the peak tourist season at your resort?\n",
    "\n",
    "Thanks,\n",
    "Paul\n",
    "\"\"\"\n",
    "\n",
    "email = email2\n",
    "\n",
    "email_cat = run_email_cat_agent(email)\n",
    "\n",
    "router_decision = run_router_agent(email, email_cat)\n",
    "\n",
    "#router_decision"
   ]
  },
  {
   "cell_type": "code",
   "execution_count": 16,
   "metadata": {
    "colab": {
     "base_uri": "https://localhost:8080/"
    },
    "id": "Zj3CJ1q_nGsz",
    "outputId": "b9962004-4075-4d60-9b20-64bbc0c396a9"
   },
   "outputs": [
    {
     "name": "stdout",
     "output_type": "stream",
     "text": [
      "---EMAIL CAT AGENT---\n",
      "Email category: customer_complaint\n",
      "---RESEARCH AGENT---\n",
      "Search keywords:\n",
      " ['Arizona weather April', 'cloudy overcast weather', 'resort weather Arizona April', 'Arizona April weather average', 'sunshine in Arizona April']\n",
      "Running tavily search...\n",
      "Research complete.\n"
     ]
    }
   ],
   "source": [
    "def run_research_agent(email, email_cat):\n",
    "\n",
    "    print(\"---RESEARCH AGENT---\")\n",
    "\n",
    "    system_message = \"\"\"\n",
    "    You are a master at working out the best keywords to search for in a web search to get the best info for the customer.\n",
    "\n",
    "    given the CUSTOMER_EMAIL and EMAIL_CATEGORY. Work out the best keywords that will find the best\n",
    "    info for helping to write a response to the customer email.\n",
    "\n",
    "    Return a JSON with a single key 'keywords' with no more than 5 keywords and no premable or explaination.\n",
    "    \"\"\"\n",
    "\n",
    "    input = f\"\"\"\n",
    "    CUSTOMER_EMAIL: {email}\n",
    "    EMAIL_CATEGORY: {email_cat}\n",
    "    \"\"\"\n",
    "\n",
    "    message_history = create_message_history(system_message, input)\n",
    "\n",
    "    response = make_llm_api_call(message_history)\n",
    "\n",
    "    response = json.loads(response)\n",
    "\n",
    "    keywords_list = (response['keywords'])\n",
    "\n",
    "    # Run searches using the keywords\n",
    "\n",
    "    print(\"Search keywords:\\n\", keywords_list)\n",
    "    print(\"Running tavily search...\")\n",
    "\n",
    "    research_info_list = []\n",
    "\n",
    "    for query in keywords_list:\n",
    "\n",
    "        results = run_tavily_search(query, num_results=2)\n",
    "        research_info_list.append(results)\n",
    "\n",
    "    print(\"Research complete.\")\n",
    "\n",
    "    return research_info_list\n",
    "\n",
    "\n",
    "\n",
    "\n",
    "# Example\n",
    "\n",
    "email = \"\"\"HI there, \\n\n",
    "I am emailing to say that the resort weather was way to cloudy and overcast. \\n\n",
    "I wanted to write a song called 'Here comes the sun but it never came'\n",
    "\n",
    "What should be the weather in Arizona in April?\n",
    "\n",
    "I really hope you fix this next time.\n",
    "\n",
    "Thanks,\n",
    "George\n",
    "\"\"\"\n",
    "\n",
    "email_cat = run_email_cat_agent(email)\n",
    "\n",
    "research_list = run_research_agent(email, email_cat)\n",
    "\n",
    "#research_list[0]"
   ]
  },
  {
   "cell_type": "code",
   "execution_count": 17,
   "metadata": {
    "colab": {
     "base_uri": "https://localhost:8080/"
    },
    "id": "qwrCN5rBnGcy",
    "outputId": "9c2d617e-1a05-4843-c88b-e1b477007e97"
   },
   "outputs": [
    {
     "name": "stdout",
     "output_type": "stream",
     "text": [
      "---EMAIL CAT AGENT---\n",
      "Email category: customer_complaint\n",
      "---RESEARCH AGENT---\n",
      "Search keywords:\n",
      " ['Arizona weather April', 'cloudy weather Arizona', 'overcast conditions Arizona', 'April climate Arizona', 'Arizona weather forecast April']\n",
      "Running tavily search...\n",
      "Research complete.\n",
      "---EMAIL WRITER AGENT---\n",
      "Email writing complete.\n",
      "Final email:\n",
      "\n",
      " Hi George,\\n\\nThank you for reaching out and sharing your feedback. I'm sorry to hear that the resort weather was overcast and cloudy during your visit – we value your perspective and are committed to ensuring your experiences are as enjoyable as possible.\\n\\nYour song title, 'Here comes the sun but it never came,' is a brilliant and poetic way to capture the feeling of waiting for clear skies! We'd love to hear more about your creative process if you're ever interested in sharing it.\\n\\nRegarding your question about Arizona's weather in April: the average high temperatures are around 87°F (31°C) with lows near 55°F (13°C). April is typically a warm and sunny month in Arizona, with mostly clear skies. However, we understand that weather can vary, and we're always here to help you plan for the best experience.\\n\\nThank you again for your feedback. We appreciate your honesty and will use your input to improve our services. Have a great day!\\n\\nBest regards,\\nSarah the Resident Manager\n"
     ]
    }
   ],
   "source": [
    "def run_email_writer_agent(email, email_cat, research_info_list):\n",
    "\n",
    "    print(\"---EMAIL WRITER AGENT---\")\n",
    "\n",
    "    system_message = \"\"\"\n",
    "    You are the Email Writer Agent take the CUSTOMER_EMAIL below  from a human that has emailed our company email address, the email_category \\\n",
    "    that the categorizer agent gave it and the research from the research agent and \\\n",
    "    write a helpful email in a thoughtful and friendly way.\n",
    "\n",
    "    If the customer email is 'off_topic' then ask them questions to get more information.\n",
    "    If the customer email is 'customer_complaint' then try to assure we value them and that we are addressing their issues.\n",
    "    If the customer email is 'customer_feedback' then try to assure we value them and that we are addressing their issues.\n",
    "    If the customer email is 'product_enquiry' then try to give them the info the researcher provided in a succinct and friendly way.\n",
    "    If the customer email is 'price_equiry' then try to give the pricing info they requested.\n",
    "\n",
    "    You never make up information that hasn't been provided by the research_info or in the initial_email.\n",
    "    Always sign off the emails in appropriate manner and from Sarah the Resident Manager.\n",
    "\n",
    "    Return a JSON string with a single key 'email_draft' and no premable or explaination.\n",
    "    \"\"\"\n",
    "\n",
    "    input = f\"\"\"\n",
    "    CUSTOMER_EMAIL: {email}\n",
    "    EMAIL_CATEGORY: {email_cat}\n",
    "    RESEARCH_INFO: {research_info_list}\n",
    "    \"\"\"\n",
    "\n",
    "    # Create the message history that includes system and user roles\n",
    "    message_history = create_message_history(system_message, input)\n",
    "\n",
    "    # Prompt the llm\n",
    "    response = make_llm_api_call(message_history)\n",
    "\n",
    "    # Extract the response from the json string\n",
    "    response = replace_items_in_string(response)\n",
    "\n",
    "    # Remove leading and trailing spaces\n",
    "    response = response.strip()\n",
    "\n",
    "    print(\"Email writing complete.\")\n",
    "    print(\"Final email:\\n\\n\", response)\n",
    "\n",
    "    return response\n",
    "\n",
    "\n",
    "\n",
    "# Example\n",
    "\n",
    "\n",
    "email = \"\"\"HI there, \\n\n",
    "I am emailing to say that the resort weather was way to cloudy and overcast. \\n\n",
    "I wanted to write a song called 'Here comes the sun but it never came'\n",
    "\n",
    "What should be the weather in Arizona in April?\n",
    "\n",
    "I really hope you fix this next time.\n",
    "\n",
    "Thanks,\n",
    "George\n",
    "\"\"\"\n",
    "\n",
    "email_cat = run_email_cat_agent(email)\n",
    "\n",
    "research_list = run_research_agent(email, email_cat)\n",
    "\n",
    "final_email = run_email_writer_agent(email, email_cat, research_list)\n",
    "\n",
    "#print(final_email)\n"
   ]
  },
  {
   "cell_type": "code",
   "execution_count": null,
   "metadata": {
    "id": "UQDuCorPdXrz"
   },
   "outputs": [],
   "source": []
  },
  {
   "cell_type": "markdown",
   "metadata": {
    "id": "9VHgKWShdUqp"
   },
   "source": [
    "# Run the system"
   ]
  },
  {
   "cell_type": "code",
   "execution_count": 28,
   "metadata": {
    "colab": {
     "base_uri": "https://localhost:8080/"
    },
    "id": "PE78ZwX-ZXKl",
    "outputId": "5a4b2a9b-d196-4212-bf3f-de7d9a4ad3cf"
   },
   "outputs": [
    {
     "name": "stdout",
     "output_type": "stream",
     "text": [
      "---EMAIL CAT AGENT---\n",
      "<think>\n",
      "Okay, let's break down George's email. He starts by saying the resort weather was too cloudy and overcast, which sounds like a complaint. Then he mentions wanting to write a song about the sun not coming, which is a creative expression. Next, he asks about the typical weather in Arizona in April. That's a product enquiry because he's seeking information about a product feature (the resort's weather conditions). Finally, he hopes they fix the issue next time, which is feedback. But the main point here is the question about Arizona's weather. Since the email includes both a complaint and an enquiry, but the primary request is the weather information, which relates to product features (resort's weather), it should be categorized as product_enquiry. However, the question about Arizona's weather might be off-topic if it's not related to the resort's services. Wait, but he's asking about the weather in Arizona in April, which could be relevant if the resort is in Arizona. If the resort is in Arizona, then the weather is a product feature. If not, then it's off-topic. The email doesn't specify the resort's location. Hmm. But the initial complaint is about the resort's weather, so maybe he's implying the resort's location. However, without explicit info, the question about Arizona's weather might be off-topic. But the main part is the complaint and the question about the resort's weather. Wait, the email is a bit confusing. The first part is a complaint about the resort's weather, then a song idea, then a question about Arizona's weather, and a hope to fix it. The question about Arizona's weather could be a product enquiry if the resort is in Arizona. But since it's not specified, maybe it's off-topic. But the user might be asking about the resort's weather, so maybe the product_enquiry is correct. Alternatively, the question about Arizona's weather is a separate inquiry. This is a bit tricky. Maybe the main intent is the complaint and the question about the resort's weather, but the Arizona part might be off-topic. However, since the user is asking about the weather in Arizona in April, which is a factual question, it's more off-topic unless the resort is in Arizona. Since the email doesn't mention the resort's location, it's safer to categorize the question as off-topic. But the initial part is a complaint. However, the instructions say to categorize the email into one category. The email contains multiple elements: complaint, song idea, weather question, feedback. The main category would be customer_complaint, but the question about Arizona's weather might be off-topic. But the user's primary intent might be the complaint. However, the presence of the weather question complicates things. Alternatively, the main request is the weather in Arizona, which is off-topic. But the initial complaint is about the resort's weather. Maybe the email is a mix, but the instructions say to choose one category. Since the user is asking about Arizona's weather, which is a factual question not related to the resort's product, it's off-topic. But the complaint is about the resort's weather. However, the email has multiple parts. The instructions say to categorize the email as a whole. Since there's a question about Arizona's weather, which is unrelated to the resort's product unless specified, the main category might be off-topic. But I'm not sure. Maybe the main issue is the complaint, so customer_complaint. However, the email also includes a product enquiry about the resort's weather. But the question about Arizona's weather is separate. This is confusing. Maybe the best approach is to consider the primary intent. The user starts with a complaint, then asks a question about Arizona's weather, which is a separate inquiry. Since the email includes both a complaint and a product enquiry (about the resort's weather), but the Arizona question is off-topic. However, the instructions say to categorize the email as a whole. Given the ambiguity, perhaps the main category is customer_complaint, but the question about Arizona's weather is off-topic. However, the email is a mix. Maybe the best fit is customer_complaint because the first part is a complaint, but the question about Arizona's weather is off-topic. However, the instructions require one category. This is tricky. Alternatively, since the email includes a question about Arizona's weather, which is unrelated to the resort's product (unless the resort is in Arizona), it's off-topic. But without knowing the resort's location, the question is off-topic. Therefore, the category is off_topic. But the initial complaint is a customer_complaint. However, the presence of the off-topic question might make the entire email off-topic. But the user might have multiple intents. The instructions say to categorize the email into one category. Given that, the main complaint is about the resort's weather, which is a product feature, so product_enquiry. But the user is complaining, not asking for information. Wait, the complaint is a customer_complaint. The question about Arizona's weather is off-topic. But the email includes both. The instructions say to choose one category. Since the email includes a complaint and an off-topic question, but the main focus is the complaint, it's customer_complaint. But the question about Arizona's weather is a separate inquiry. However, the email is a mix. Maybe the best is customer_complaint because the first part is a complaint, but the other parts are mixed. Alternatively, the question about Arizona's weather is the main query, which is off-topic. But the user's intent is unclear. Given the ambiguity, I'll go with customer_complaint as the main category, but I'm not sure. Alternatively, the presence of the question about Arizona's weather makes it off-topic. Hmm. I think the correct category here is customer_complaint because the main issue is the dissatisfaction with the resort's weather, even though there's a question about Arizona's weather. The other parts are secondary. Therefore, the category is customer_complaint.\n",
      "</think>\n",
      "Email category: customer_complaint\n",
      "---ROUTER AGENT---\n",
      "<think>\n",
      "Okay, let's see. The user is George, and he's complaining about the weather at a resort being too cloudy and overcast. He mentions wanting to write a song called \"Here comes the sun but it never came,\" which is a play on the Beatles song, indicating disappointment that the sun didn't shine. His main question is about the typical weather in Arizona in April. He also hopes they fix this next time and ends with thanks.\n",
      "\n",
      "The email category is a customer complaint. Now, the decision is whether to route this to the email writer agent or the research agent. The key here is whether the email requires a simple response or needs research. George is asking for the weather in Arizona in April, which isn't a simple fact that the email writer can handle without data. The writer agent might be able to respond to the complaint and acknowledge his feelings, but the specific weather question requires accurate data. Since the email category is a complaint, but the question is factual, the research agent is needed to provide the weather information. Therefore, the router decision should be to_research_agent.\n",
      "</think>\n",
      "Router decision: to_research_agent\n",
      "---RESEARCH AGENT---\n",
      "<think>\n",
      "Okay, let's see. George is complaining about the weather at a resort being too cloudy and overcast, and he wants to know what the typical weather in Arizona is in April. He mentioned a song title about the sun not coming, which is a bit of a clue.\n",
      "\n",
      "First, I need to figure out the best keywords to search for. The main points here are Arizona's April weather and addressing the customer's complaint. The customer is probably looking for reassurance that the weather is usually better, so they can be informed for future visits.\n",
      "\n",
      "So, the primary keyword would be \"Arizona April weather\" to get the typical conditions. Then, since he mentioned the sun not coming, including \"sunny days Arizona\" might help find info on how often it's sunny. \"Resort weather complaints Arizona\" could be useful to see if others have similar issues. Maybe \"average temperature Arizona April\" to give specific data. Lastly, \"weather patterns Arizona April\" to understand the climate trends. Let me check if these are relevant and not overlapping too much. Yeah, that should cover the main points for the response.\n",
      "</think>\n",
      "Search keywords:\n",
      " ['Arizona April weather', 'sunny days Arizona', 'resort weather complaints Arizona', 'average temperature Arizona April', 'weather patterns Arizona April']\n",
      "Running tavily search...\n",
      "Research complete.\n",
      "---EMAIL WRITER AGENT---\n",
      "<think>\n",
      "Okay, let's tackle this. The customer, George, is complaining about the weather at the resort being too cloudy and overcast in April. He even wrote a song title about it. The email category is a customer complaint, so I need to address his concerns with empathy and provide the information he's looking for.\n",
      "\n",
      "First, I should acknowledge his frustration. He clearly had high expectations for the weather, and it didn't meet them. Then, the research info shows that Arizona's April weather typically has a mix of sunny and cloudy days, with some areas like Phoenix having around 300 sunny days a year. However, the specific data from the research might have some conflicting info, like the weatherapi.com showing a particular day's conditions, but that might be for a different location or time. Wait, the research results mention Phoenix's April weather with temperatures and some cloudy days. Also, there's a note that even in April, there can be variability, with some days being sunny and others cloudy. The average temperature in Phoenix in April is between 57°F to 65°F, with the clearest day being April 30th. However, the research also mentions that the chance of a wet day decreases in April, but there might be some rain.\n",
      "\n",
      "But George's complaint is about the resort's weather being too cloudy. I need to check if the research info mentions anything about resorts specifically. The query 'resort weather complaints Arizona' didn't return specific resort info, but general weather data. So, I can't confirm if the resort's weather is typically cloudy, but I can inform him about the general weather patterns.\n",
      "\n",
      "I should apologize for the experience, explain that Arizona's April can have variable weather, mention the typical sunny days but also the possibility of cloudy days, and perhaps suggest that the resort might have different microclimates. Also, offer to provide more info or help with any follow-up questions. Sign off as Sarah, Resident Manager, to maintain a personal touch.\n",
      "\n",
      "Wait, the research also shows that in April, Phoenix has increasing daily low temperatures, and the clearest day is April 30th. However, the specific data from the weatherapi.com shows a particular day with patchy light rain and thunder, but that might be for a different location (since the lat/lon is in Honduras, which seems like a mistake). That's probably an error in the research data. So I shouldn't rely on that. Instead, focus on the other sources that mention Phoenix's sunny days and average temperatures.\n",
      "\n",
      "So, in the response, I'll mention that Arizona's April typically has a mix of sunny and cloudy days, with Phoenix averaging around 300 sunny days a year. However, weather can vary, and some days might be overcast. Also, note that April is a transition month with increasing temperatures and variable conditions. Apologize for the experience and offer to help with any further concerns.\n",
      "</think>\n",
      "Email writing complete.\n",
      "Final email:\n",
      "\n",
      " \"response\": \"Dear George,\\n\\nThank you for sharing your experience and for your thoughtful song title—it’s clear the weather didn’t quite meet your expectations! We sincerely apologize for the overcast conditions during your stay. While Arizona is renowned for its sunshine, April can bring variable weather, with periods of cloudiness and even the occasional rain, especially in the early part of the month. \\n\\nAccording to our research, Phoenix typically enjoys around 300 sunny days annually, with April temperatures ranging from 57°F to 65°F. However, weather patterns can shift, and the clearest days in April often occur toward the end of the month (e.g., April 30th). That said, we understand that unexpected cloudiness can impact the experience, and we regret it fell short of your hopes.\\n\\nIf you’re planning a future visit, we recommend checking local forecasts closer to your dates, as conditions can vary. We’d also be happy to provide additional insights or assistance to ensure your next trip aligns with your expectations. Thank you for your feedback—it helps us strive to improve!\\n\\nWarm regards,\\nSarah, Resident Manager\",\n",
      "  \"follow_up\": \"Would you like assistance with rebooking or further details about Arizona’s weather patterns?\n"
     ]
    }
   ],
   "source": [
    "email1 = \"\"\"HI there, \\n\n",
    "I am emailing to say that the resort weather was way to cloudy and overcast. \\n\n",
    "I wanted to write a song called 'Here comes the sun but it never came'\n",
    "\n",
    "What should be the weather in Arizona in April?\n",
    "\n",
    "I really hope you fix this next time.\n",
    "\n",
    "Thanks,\n",
    "George\n",
    "\"\"\"\n",
    "\n",
    "email2 = \"\"\"HI there, \\n\n",
    "I am emailing to say that I had a wonderful stay at your resort last week. \\n\n",
    "\n",
    "I really appreaciate what your staff did\n",
    "\n",
    "Thanks,\n",
    "Paul\n",
    "\"\"\"\n",
    "\n",
    "\n",
    "# Initialize variables\n",
    "email = email1\n",
    "research_list = \"\"\n",
    "\n",
    "email_cat = run_email_cat_agent(email)\n",
    "\n",
    "router_decision = run_router_agent(email, email_cat)\n",
    "\n",
    "if router_decision == \"to_research_agent\":\n",
    "    research_list = run_research_agent(email, email_cat)\n",
    "\n",
    "final_email = run_email_writer_agent(email, email_cat, research_list)"
   ]
  },
  {
   "cell_type": "code",
   "execution_count": null,
   "metadata": {
    "id": "AkiH_dSTZXHO"
   },
   "outputs": [],
   "source": []
  },
  {
   "cell_type": "code",
   "execution_count": null,
   "metadata": {
    "id": "fZLpFq4tvmG7"
   },
   "outputs": [],
   "source": []
  }
 ],
 "metadata": {
  "colab": {
   "provenance": []
  },
  "kernelspec": {
   "display_name": "Python 3 (ipykernel)",
   "language": "python",
   "name": "python3"
  },
  "language_info": {
   "codemirror_mode": {
    "name": "ipython",
    "version": 3
   },
   "file_extension": ".py",
   "mimetype": "text/x-python",
   "name": "python",
   "nbconvert_exporter": "python",
   "pygments_lexer": "ipython3",
   "version": "3.10.17"
  }
 },
 "nbformat": 4,
 "nbformat_minor": 4
}
