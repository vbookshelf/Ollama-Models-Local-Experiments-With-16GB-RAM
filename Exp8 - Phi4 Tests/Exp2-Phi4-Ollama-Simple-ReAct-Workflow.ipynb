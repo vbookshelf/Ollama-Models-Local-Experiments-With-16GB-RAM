{
 "cells": [
  {
   "cell_type": "code",
   "execution_count": null,
   "metadata": {
    "id": "gsE5rhFuCiQj"
   },
   "outputs": [],
   "source": []
  },
  {
   "cell_type": "code",
   "execution_count": null,
   "metadata": {
    "colab": {
     "base_uri": "https://localhost:8080/"
    },
    "id": "GI-8V6WVCpC8",
    "outputId": "e3e6ab85-0b92-4866-f5c5-1e9179077ad6"
   },
   "outputs": [],
   "source": []
  },
  {
   "cell_type": "code",
   "execution_count": 2,
   "metadata": {
    "id": "yRd5X-eQC6hp"
   },
   "outputs": [],
   "source": []
  },
  {
   "cell_type": "code",
   "execution_count": 1,
   "metadata": {
    "id": "EdY2JYCQePWH"
   },
   "outputs": [],
   "source": [
    "import json\n",
    "import os\n",
    "import re\n",
    "\n",
    "from ollama import chat\n",
    "from ollama import ChatResponse"
   ]
  },
  {
   "cell_type": "code",
   "execution_count": 2,
   "metadata": {
    "id": "eXpFe86y6DOF"
   },
   "outputs": [],
   "source": [
    "MODEL_NAME = 'phi4:14b'"
   ]
  },
  {
   "cell_type": "code",
   "execution_count": null,
   "metadata": {},
   "outputs": [],
   "source": []
  },
  {
   "cell_type": "markdown",
   "metadata": {
    "id": "33Z_T0CgFYif"
   },
   "source": [
    "# Create a list of agents\n",
    "\n",
    "AGENTS\n",
    "1. chat_agent\n",
    "2. router_agent\n",
    "3. research_agent\n",
    "4. final_answer_agent\n",
    "\n",
    "TOOLS\n",
    "- Function that returns an avaerage dog weight given a dog breed\n",
    "- Calculate function that returns answers to calculations\n",
    "\n",
    "BLOCKS\n",
    "- ReAct block"
   ]
  },
  {
   "cell_type": "markdown",
   "metadata": {
    "id": "LwW76J3yJ5QN"
   },
   "source": [
    "# Helper functions"
   ]
  },
  {
   "cell_type": "code",
   "execution_count": 3,
   "metadata": {},
   "outputs": [],
   "source": [
    "def initialize_message_history(system_message):\n",
    "\n",
    "    message_history = [\n",
    "                        {\n",
    "                            \"role\": \"system\",\n",
    "                            \"content\": system_message\n",
    "                        }\n",
    "                    ]\n",
    "\n",
    "    return message_history"
   ]
  },
  {
   "cell_type": "code",
   "execution_count": 4,
   "metadata": {
    "id": "1pl8ksbbeuSD"
   },
   "outputs": [],
   "source": [
    "def create_message_history(system_message, user_input):\n",
    "\n",
    "    message_history = [\n",
    "                        {\n",
    "                            \"role\": \"system\",\n",
    "                            \"content\": system_message\n",
    "                        },\n",
    "                        {\n",
    "                            \"role\": \"user\",\n",
    "                            \"content\": user_input\n",
    "                        }\n",
    "                    ]\n",
    "\n",
    "    return message_history\n",
    "\n"
   ]
  },
  {
   "cell_type": "markdown",
   "metadata": {},
   "source": [
    "# Set up the LLM"
   ]
  },
  {
   "cell_type": "code",
   "execution_count": 5,
   "metadata": {
    "colab": {
     "base_uri": "https://localhost:8080/"
    },
    "id": "eZ-R0vrQezl2",
    "outputId": "d037941a-adc1-4dc9-cf1e-8151ea925c7b"
   },
   "outputs": [
    {
     "name": "stdout",
     "output_type": "stream",
     "text": [
      "My name is Molly! How can I assist you today?\n"
     ]
    }
   ],
   "source": [
    "def make_llm_api_call(message_history):\n",
    "\n",
    "    model_name = MODEL_NAME\n",
    "\n",
    "    response: ChatResponse = chat(model=model_name, \n",
    "                                  messages=message_history,\n",
    "                                )\n",
    "\n",
    "    output_text = response['message']['content']\n",
    "\n",
    "    #thinking_text, response_text = process_response(output_text)\n",
    "\n",
    "    return output_text\n",
    "\n",
    "\n",
    "# Example\n",
    "\n",
    "system_message = \"Your name is Molly.\"\n",
    "user_message = \"What's your name?\"\n",
    "\n",
    "message_history = create_message_history(system_message, user_message)\n",
    "\n",
    "response_text = make_llm_api_call(message_history)\n",
    "\n",
    "print(response_text)\n",
    "\n",
    "#print(response['message']['content'])"
   ]
  },
  {
   "cell_type": "markdown",
   "metadata": {
    "id": "ShdYyu_Ne7R2"
   },
   "source": [
    "# Set up the tools\n",
    "\n"
   ]
  },
  {
   "cell_type": "code",
   "execution_count": 6,
   "metadata": {
    "id": "HhHLeqs84Zb9"
   },
   "outputs": [],
   "source": [
    "def calculate(what):\n",
    "    return eval(what)\n",
    "\n",
    "def average_dog_weight(name):\n",
    "    if name in \"Scottish Terrier\":\n",
    "        return(\"Scottish Terriers average 20 lbs\")\n",
    "    elif name in \"Border Collie\":\n",
    "        return(\"a Border Collies average weight is 37 lbs\")\n",
    "    elif name in \"Toy Poodle\":\n",
    "        return(\"a toy poodles average weight is 7 lbs\")\n",
    "    else:\n",
    "        return(\"An average dog weights 50 lbs\")\n",
    "\n",
    "known_actions = {\n",
    "    \"calculate\": calculate,\n",
    "    \"average_dog_weight\": average_dog_weight\n",
    "}"
   ]
  },
  {
   "cell_type": "markdown",
   "metadata": {
    "id": "oXRI9OSi5Dom"
   },
   "source": [
    "# Set up the system messages"
   ]
  },
  {
   "cell_type": "code",
   "execution_count": 7,
   "metadata": {
    "id": "-dMNuTpE4-PT"
   },
   "outputs": [],
   "source": [
    "chat_agent_system_message = \"\"\"\n",
    "1. You provide polite answers to simple questions.\n",
    "If the user's input requires only a simple answer, then output your answer as JSON.\n",
    "\n",
    "Example session:\n",
    "\n",
    "Question: Hello. How are you?\n",
    "\n",
    "You output:\n",
    "\n",
    "{{\n",
    "\"Answer\": \"I'm fine, thanks.\",\n",
    "\"Status\": \"DONE\"\n",
    "}}\n",
    "\n",
    "2. You also run in a loop of Thought, Action, PAUSE, Observation.\n",
    "At the end of the loop you output an Answer\n",
    "Use Thought to describe your thoughts about the question you have been asked.\n",
    "Use Action to run one of the actions available to you - then return PAUSE.\n",
    "Observation will be the result of running those actions.\n",
    "Output your response as a JSON string.\n",
    "\n",
    "Your available actions are:\n",
    "\n",
    "calculate:\n",
    "e.g. calculate: 4 * 7 / 3\n",
    "Runs a calculation and returns the number - uses Python so be sure to use floating point syntax if necessary\n",
    "\n",
    "average_dog_weight:\n",
    "e.g. average_dog_weight: Collie\n",
    "returns average weight of a dog when given the breed\n",
    "\n",
    "You can only call one action at a time.\n",
    "\n",
    "\n",
    "Example session:\n",
    "\n",
    "Question: How much does a Bulldog weigh?\n",
    "{\n",
    "    \"Thought\": \"I should look the dogs weight using average_dog_weight\",\n",
    "    \"Action\": {\"function\":\"average_dog_weight\", \"input\": \"Bulldog\"},\n",
    "    \"Status\": \"PAUSE\"\n",
    "}\n",
    "\n",
    "You will be called again with this:\n",
    "\n",
    "Observation: A Bulldog weights 51 lbs\n",
    "\n",
    "You then output:\n",
    "{\n",
    "    \"Answer\": \"A bulldog weights 51 lbs\",\n",
    "    \"Status\": \"DONE\"\n",
    "}\n",
    "\"\"\".strip()\n",
    "\n"
   ]
  },
  {
   "cell_type": "code",
   "execution_count": null,
   "metadata": {},
   "outputs": [],
   "source": []
  },
  {
   "cell_type": "markdown",
   "metadata": {
    "id": "kGZoKXk4fDX4"
   },
   "source": [
    "# Set up the Agents"
   ]
  },
  {
   "cell_type": "code",
   "execution_count": 8,
   "metadata": {
    "colab": {
     "base_uri": "https://localhost:8080/"
    },
    "id": "c67LzbXufDJc",
    "outputId": "6d9e1fb7-dd78-4584-806e-d957475eb3d3"
   },
   "outputs": [
    {
     "name": "stdout",
     "output_type": "stream",
     "text": [
      "---CHAT AGENT---\n",
      "{\n",
      "    \"Thought\": \"I should look up the average weight of a Toy Poodle using the average_dog_weight function.\",\n",
      "    \"Action\": {\"function\":\"average_dog_weight\", \"input\": \"Toy Poodle\"},\n",
      "    \"Status\": \"PAUSE\"\n",
      "}\n"
     ]
    }
   ],
   "source": [
    "def run_chat_agent(message_history):\n",
    "\n",
    "    print(\"---CHAT AGENT---\")\n",
    "\n",
    "    # Prompt the llm\n",
    "    response = make_llm_api_call(message_history)\n",
    "\n",
    "    response = response.replace('```json', '')\n",
    "    response = response.replace('```', '')\n",
    "    response = response.strip()\n",
    "\n",
    "    print(response)\n",
    "\n",
    "    return response\n",
    "\n",
    "\n",
    "\n",
    "# Example\n",
    "\n",
    "user_query = \"How much does a toy poodle weigh?\"\n",
    "\n",
    "message_history = create_message_history(chat_agent_system_message, user_query)\n",
    "\n",
    "# Prompt the chat_agent\n",
    "response = run_chat_agent(message_history)\n",
    "\n",
    "# Update message history\n",
    "message = [{\"role\": \"assistant\", \"content\": response}]\n",
    "message_history.append(message)\n"
   ]
  },
  {
   "cell_type": "code",
   "execution_count": 9,
   "metadata": {
    "colab": {
     "base_uri": "https://localhost:8080/"
    },
    "id": "NHOvD12NfDHX",
    "outputId": "109d8c94-5a13-44e6-84f8-7851cd398032"
   },
   "outputs": [
    {
     "name": "stdout",
     "output_type": "stream",
     "text": [
      "---CHAT AGENT---\n",
      "{\n",
      "    \"Thought\": \"I should look up the average weight of a Toy Poodle using the function 'average_dog_weight'.\",\n",
      "    \"Action\": {\"function\":\"average_dog_weight\", \"input\": \"Toy Poodle\"},\n",
      "    \"Status\": \"PAUSE\"\n",
      "}\n",
      "---ROUTER AGENT---\n",
      "Status: PAUSE\n",
      "Route: to_research_agent\n"
     ]
    }
   ],
   "source": [
    "def run_router_agent(llm_response):\n",
    "\n",
    "    \"\"\"\n",
    "    Route to web search or not.\n",
    "    Args:\n",
    "        state (dict): The current graph state\n",
    "    Returns:\n",
    "        str: Next node to call\n",
    "    \"\"\"\n",
    "\n",
    "    print(\"---ROUTER AGENT---\")\n",
    "\n",
    "\n",
    "    # Extract the status\n",
    "    json_response = json.loads(llm_response)\n",
    "    status = json_response['Status']\n",
    "    #status = extract_json_str_value(response, \"Status\").strip()\n",
    "\n",
    "    print(\"Status:\", status)\n",
    "\n",
    "    if status == 'PAUSE':\n",
    "        print(\"Route: to_research_agent\")\n",
    "        return \"to_research_agent\"\n",
    "\n",
    "    elif status == 'DONE':\n",
    "        print(\"Route: to_final_answer\")\n",
    "        return \"to_final_answer\"\n",
    "\n",
    "\n",
    "\n",
    "# Example\n",
    "\n",
    "user_query = \"How much does a toy poodle weigh?\"\n",
    "\n",
    "message_history = create_message_history(chat_agent_system_message, user_query)\n",
    "\n",
    "# Prompt the chat_agent\n",
    "response = run_chat_agent(message_history)\n",
    "\n",
    "# Update message history\n",
    "message = [{\"role\": \"assistant\", \"content\": response}]\n",
    "message_history.append(message)\n",
    "\n",
    "# Run router_agent\n",
    "route = run_router_agent(response)\n"
   ]
  },
  {
   "cell_type": "code",
   "execution_count": 10,
   "metadata": {
    "colab": {
     "base_uri": "https://localhost:8080/"
    },
    "id": "Zj3CJ1q_nGsz",
    "outputId": "01a6596e-c7f0-4e91-e33b-729f73239a40"
   },
   "outputs": [
    {
     "name": "stdout",
     "output_type": "stream",
     "text": [
      "---CHAT AGENT---\n",
      "{\n",
      "    \"Thought\": \"I should look up the average weight of a Toy Poodle using the average_dog_weight function.\",\n",
      "    \"Action\": {\"function\":\"average_dog_weight\", \"input\": \"Toy Poodle\"},\n",
      "    \"Status\": \"PAUSE\"\n",
      "}\n",
      "---ROUTER AGENT---\n",
      "Status: PAUSE\n",
      "Route: to_research_agent\n",
      "---RESEARCH AGENT---\n",
      "func_to_run: average_dog_weight\n",
      "func_arg: Toy Poodle\n",
      "Output: a toy poodles average weight is 7 lbs\n"
     ]
    }
   ],
   "source": [
    "def run_research_agent(llm_response):\n",
    "\n",
    "    print(\"---RESEARCH AGENT---\")\n",
    "\n",
    "    # Extract the status\n",
    "    json_response = json.loads(llm_response)\n",
    "    action_dict = json_response['Action']\n",
    "    func_to_run = action_dict['function']\n",
    "    func_input = action_dict['input']\n",
    "\n",
    "    if func_to_run == \"average_dog_weight\":\n",
    "        answer = average_dog_weight(func_input)\n",
    "    else:\n",
    "        answer = calculate(func_input)\n",
    "\n",
    "    print(\"func_to_run:\", func_to_run)\n",
    "    print(\"func_arg:\", func_input)\n",
    "    print(\"Output:\", answer)\n",
    "\n",
    "    return answer\n",
    "\n",
    "\n",
    "\n",
    "# Example\n",
    "\n",
    "user_query = \"How much does a toy poodle weigh?\"\n",
    "\n",
    "message_history = create_message_history(chat_agent_system_message, user_query)\n",
    "\n",
    "# Prompt the chat_agent\n",
    "llm_response = run_chat_agent(message_history)\n",
    "\n",
    "# Update message history\n",
    "message = {\"role\": \"assistant\", \"content\": llm_response}\n",
    "message_history.append(message)\n",
    "\n",
    "# Run router_agent\n",
    "route = run_router_agent(llm_response)\n",
    "\n",
    "\n",
    "if route == \"to_research_agent\":\n",
    "    answer = run_research_agent(llm_response)\n",
    "\n",
    "    # Update message history\n",
    "    message = {\"role\": \"user\", \"content\": f\"Observation: {answer}\"}\n",
    "    message_history.append(message)\n",
    "\n"
   ]
  },
  {
   "cell_type": "code",
   "execution_count": 11,
   "metadata": {
    "id": "Xrmd29mU7ZLa"
   },
   "outputs": [],
   "source": [
    "def run_final_answer_agent(llm_response):\n",
    "\n",
    "    print(\"---FINAL ANSWER AGENT---\")\n",
    "\n",
    "    json_response = json.loads(llm_response)\n",
    "    final_answer = json_response['Answer']\n",
    "\n",
    "    print(\"Final answer:\", final_answer)"
   ]
  },
  {
   "cell_type": "markdown",
   "metadata": {
    "id": "l6enpJPmzLim"
   },
   "source": [
    "# Run the system"
   ]
  },
  {
   "cell_type": "code",
   "execution_count": 12,
   "metadata": {
    "colab": {
     "base_uri": "https://localhost:8080/"
    },
    "id": "lSuoHVFDy8WZ",
    "outputId": "3ffe455b-fb6f-4ba2-a8fc-f1e3c63c482a"
   },
   "outputs": [
    {
     "name": "stdout",
     "output_type": "stream",
     "text": [
      "---CHAT AGENT---\n",
      "{\n",
      "    \"Answer\": \"I'm fine, thanks.\",\n",
      "    \"Status\": \"DONE\"\n",
      "}\n",
      "---ROUTER AGENT---\n",
      "Status: DONE\n",
      "Route: to_final_answer\n",
      "---FINAL ANSWER AGENT---\n",
      "Final answer: I'm fine, thanks.\n"
     ]
    }
   ],
   "source": [
    "user_query1 = \"How much does a Scottish Terrier weigh?\"\n",
    "\n",
    "user_query2 = \"How much does a Scottish Terrier and a Border Collie weigh?\"\n",
    "\n",
    "# For this question the model can try to call all\n",
    "# the functions it needs at the same time.\n",
    "user_query3 = \"What is the average weight of a Scottish Terrier and a Border Collie?\"\n",
    "\n",
    "# The system does not fail when this question is asked.\n",
    "# The LLM decides by itself what to do.\n",
    "user_query4 = \"Hello. How are you?\"\n",
    "\n",
    "\n",
    "message_history = create_message_history(chat_agent_system_message, user_query4)\n",
    "\n",
    "\n",
    "for i in range(0,5):\n",
    "\n",
    "    # Prompt the chat_agent\n",
    "    llm_response = run_chat_agent(message_history)\n",
    "\n",
    "    # Update message history\n",
    "    message = {\"role\": \"assistant\", \"content\": llm_response}\n",
    "    message_history.append(message)\n",
    "\n",
    "    # Run router_agent\n",
    "    route = run_router_agent(llm_response)\n",
    "\n",
    "\n",
    "    if route == \"to_research_agent\":\n",
    "\n",
    "        answer = run_research_agent(llm_response)\n",
    "\n",
    "        # Update message history\n",
    "        message = {\"role\": \"user\", \"content\": f\"Observation: {answer}\"}\n",
    "        message_history.append(message)\n",
    "\n",
    "    else:\n",
    "\n",
    "        run_final_answer_agent(llm_response)\n",
    "\n",
    "        break\n",
    "\n"
   ]
  },
  {
   "cell_type": "code",
   "execution_count": null,
   "metadata": {},
   "outputs": [],
   "source": []
  },
  {
   "cell_type": "markdown",
   "metadata": {
    "id": "ozPRaVMJzuJw"
   },
   "source": [
    "## Run a chat loop"
   ]
  },
  {
   "cell_type": "code",
   "execution_count": 15,
   "metadata": {
    "id": "OPQMnDDlzuHO"
   },
   "outputs": [
    {
     "name": "stdout",
     "output_type": "stream",
     "text": [
      "\n",
      "==========\n"
     ]
    },
    {
     "name": "stdin",
     "output_type": "stream",
     "text": [
      "Enter something (or 'q' to quit):  What is the average weight of a toy poodle and a bulldog?\n"
     ]
    },
    {
     "name": "stdout",
     "output_type": "stream",
     "text": [
      "==========\n",
      "---CHAT AGENT---\n",
      "{\n",
      "    \"Thought\": \"I will first find the average weight of a Toy Poodle, then the average weight of a Bulldog, and finally sum these two weights to get the total.\",\n",
      "    \"Action\": {\n",
      "        \"function\": \"average_dog_weight\",\n",
      "        \"input\": \"Toy Poodle\"\n",
      "    },\n",
      "    \"Status\": \"PAUSE\"\n",
      "}\n",
      "---ROUTER AGENT---\n",
      "Status: PAUSE\n",
      "Route: to_research_agent\n",
      "---RESEARCH AGENT---\n",
      "func_to_run: average_dog_weight\n",
      "func_arg: Toy Poodle\n",
      "Output: a toy poodles average weight is 7 lbs\n",
      "---CHAT AGENT---\n",
      "{\n",
      "    \"Thought\": \"Now that I have the average weight of a Toy Poodle, I will find the average weight of a Bulldog next.\",\n",
      "    \"Action\": {\n",
      "        \"function\": \"average_dog_weight\",\n",
      "        \"input\": \"Bulldog\"\n",
      "    },\n",
      "    \"Status\": \"PAUSE\"\n",
      "}\n",
      "---ROUTER AGENT---\n",
      "Status: PAUSE\n",
      "Route: to_research_agent\n",
      "---RESEARCH AGENT---\n",
      "func_to_run: average_dog_weight\n",
      "func_arg: Bulldog\n",
      "Output: An average dog weights 50 lbs\n",
      "---CHAT AGENT---\n",
      "{\n",
      "    \"Thought\": \"I have both the average weight of a Toy Poodle (7 lbs) and an average Bulldog (50 lbs). I will now add these two values to find their combined average weight.\",\n",
      "    \"Action\": {\n",
      "        \"function\": \"calculate\",\n",
      "        \"input\": \"7 + 50\"\n",
      "    },\n",
      "    \"Status\": \"PAUSE\"\n",
      "}\n",
      "---ROUTER AGENT---\n",
      "Status: PAUSE\n",
      "Route: to_research_agent\n",
      "---RESEARCH AGENT---\n",
      "func_to_run: calculate\n",
      "func_arg: 7 + 50\n",
      "Output: 57\n",
      "---CHAT AGENT---\n",
      "{\n",
      "    \"Answer\": \"The average weight of a Toy Poodle and a Bulldog combined is 57 lbs.\",\n",
      "    \"Status\": \"DONE\"\n",
      "}\n",
      "---ROUTER AGENT---\n",
      "Status: DONE\n",
      "Route: to_final_answer\n",
      "---FINAL ANSWER AGENT---\n",
      "Final answer: The average weight of a Toy Poodle and a Bulldog combined is 57 lbs.\n",
      "\n",
      "==========\n"
     ]
    },
    {
     "name": "stdin",
     "output_type": "stream",
     "text": [
      "Enter something (or 'q' to quit):  q\n"
     ]
    },
    {
     "name": "stdout",
     "output_type": "stream",
     "text": [
      "==========\n",
      "Exiting the loop. Goodbye!\n"
     ]
    }
   ],
   "source": [
    "# Prompting the user for input\n",
    "#user_input = input(\"Please enter something: \")\n",
    "\n",
    "message_history = initialize_message_history(chat_agent_system_message)\n",
    "\n",
    "while True:\n",
    "\n",
    "    print()\n",
    "    print(\"==========\")\n",
    "    user_input = input(\"Enter something (or 'q' to quit): \")\n",
    "    print(\"==========\")\n",
    "\n",
    "    if user_input.lower() == 'q':\n",
    "        print(\"Exiting the loop. Goodbye!\")\n",
    "        break  # Exit the loop\n",
    "\n",
    "    # Update message history\n",
    "    message = {\"role\": \"user\", \"content\": user_input}\n",
    "    message_history.append(message)\n",
    "\n",
    "\n",
    "    for i in range(0,5):\n",
    "\n",
    "        # Prompt the chat_agent\n",
    "        llm_response = run_chat_agent(message_history)\n",
    "\n",
    "        # Update message history\n",
    "        message = {\"role\": \"assistant\", \"content\": llm_response}\n",
    "        message_history.append(message)\n",
    "\n",
    "        # Run router_agent\n",
    "        route = run_router_agent(llm_response)\n",
    "\n",
    "\n",
    "        if route == \"to_research_agent\":\n",
    "\n",
    "            answer = run_research_agent(llm_response)\n",
    "\n",
    "            # Update message history\n",
    "            message = {\"role\": \"user\", \"content\": f\"Observation: {answer}\"}\n",
    "            message_history.append(message)\n",
    "\n",
    "        else:\n",
    "\n",
    "            run_final_answer_agent(llm_response)\n",
    "\n",
    "            break"
   ]
  },
  {
   "cell_type": "code",
   "execution_count": null,
   "metadata": {
    "id": "fZLpFq4tvmG7"
   },
   "outputs": [],
   "source": []
  }
 ],
 "metadata": {
  "colab": {
   "provenance": []
  },
  "kernelspec": {
   "display_name": "Python 3 (ipykernel)",
   "language": "python",
   "name": "python3"
  },
  "language_info": {
   "codemirror_mode": {
    "name": "ipython",
    "version": 3
   },
   "file_extension": ".py",
   "mimetype": "text/x-python",
   "name": "python",
   "nbconvert_exporter": "python",
   "pygments_lexer": "ipython3",
   "version": "3.10.17"
  }
 },
 "nbformat": 4,
 "nbformat_minor": 4
}
