{
 "cells": [
  {
   "cell_type": "code",
   "execution_count": null,
   "metadata": {
    "id": "gsE5rhFuCiQj"
   },
   "outputs": [],
   "source": [
    "# Ref:\n",
    "# YouTube Video\n",
    "# Sam Witteveen\n",
    "# Creating an AI Agent with LangGraph Llama 3 & Groq\n",
    "# https://www.youtube.com/watch?v=lvQ96Ssesfk"
   ]
  },
  {
   "cell_type": "code",
   "execution_count": null,
   "metadata": {
    "id": "yRd5X-eQC6hp"
   },
   "outputs": [],
   "source": []
  },
  {
   "cell_type": "code",
   "execution_count": 1,
   "metadata": {
    "id": "EdY2JYCQePWH"
   },
   "outputs": [],
   "source": [
    "import json\n",
    "import os\n",
    "import re\n",
    "\n",
    "from ollama import chat\n",
    "from ollama import ChatResponse"
   ]
  },
  {
   "cell_type": "code",
   "execution_count": 2,
   "metadata": {},
   "outputs": [],
   "source": [
    "MODEL_NAME = 'gemma3:12b'"
   ]
  },
  {
   "cell_type": "markdown",
   "metadata": {
    "id": "Cqxrj_T6C_z1"
   },
   "source": [
    "# Define the API clients"
   ]
  },
  {
   "cell_type": "code",
   "execution_count": 3,
   "metadata": {
    "id": "PzAyFOnWC_d9"
   },
   "outputs": [],
   "source": [
    "from dotenv import load_dotenv\n",
    "import os\n",
    "\n",
    "load_dotenv(os.path.expanduser(\"~/Desktop/dot-env-api-keys/my-api-keys.env\"))\n",
    "\n",
    "TAVILY_API_KEY = os.getenv(\"TAVILY_API_KEY\")"
   ]
  },
  {
   "cell_type": "code",
   "execution_count": 4,
   "metadata": {},
   "outputs": [],
   "source": [
    "# Tavily web search\n",
    "\n",
    "from tavily import TavilyClient\n",
    "\n",
    "tavily_client = TavilyClient(api_key=TAVILY_API_KEY)"
   ]
  },
  {
   "cell_type": "markdown",
   "metadata": {
    "id": "2Ox3Pq34Eq8I"
   },
   "source": [
    "# What is the objective?\n",
    "\n",
    "- Get an email from a customer\n",
    "- Categorize the email\n",
    "- Decide if research is needed before replying\n",
    "- Do research if needed\n",
    "- Write a draft reply"
   ]
  },
  {
   "cell_type": "code",
   "execution_count": null,
   "metadata": {
    "id": "eXpFe86y6DOF"
   },
   "outputs": [],
   "source": []
  },
  {
   "cell_type": "markdown",
   "metadata": {
    "id": "33Z_T0CgFYif"
   },
   "source": [
    "# Create a list of agents\n",
    "\n",
    "AGENTS\n",
    "1. email_cat_agent\n",
    "2. router_agent (route to research_agent or email_writer_agent)\n",
    "3. research_agent\n",
    "4. email_writer_agent\n",
    "\n",
    "TOOLS\n",
    "- Tavily search (used by research_agent)\n"
   ]
  },
  {
   "cell_type": "markdown",
   "metadata": {
    "id": "LwW76J3yJ5QN"
   },
   "source": [
    "# Helper functions"
   ]
  },
  {
   "cell_type": "code",
   "execution_count": 5,
   "metadata": {
    "id": "W3YQhpBeJ69J"
   },
   "outputs": [],
   "source": [
    "def write_markdown_file(content, filename):\n",
    "  \"\"\"Writes the given content as a markdown file to the local directory.\n",
    "\n",
    "  Args:\n",
    "    content: The string content to write to the file.\n",
    "    filename: The filename to save the file as.\n",
    "  \"\"\"\n",
    "  with open(f\"{filename}.md\", \"w\") as f:\n",
    "    f.write(content)\n"
   ]
  },
  {
   "cell_type": "code",
   "execution_count": 6,
   "metadata": {},
   "outputs": [],
   "source": [
    "def initialize_message_history(system_message):\n",
    "\n",
    "    message_history = [\n",
    "                        {\n",
    "                            \"role\": \"system\",\n",
    "                            \"content\": system_message\n",
    "                        }\n",
    "                    ]\n",
    "\n",
    "    return message_history"
   ]
  },
  {
   "cell_type": "code",
   "execution_count": 7,
   "metadata": {
    "id": "1pl8ksbbeuSD"
   },
   "outputs": [],
   "source": [
    "def create_message_history(system_message, user_input):\n",
    "\n",
    "    \"\"\"\n",
    "    Create a message history messages list.\n",
    "    Args:\n",
    "        system_message (str): The system message\n",
    "        user_query (str): The user input\n",
    "    Returns:\n",
    "        A list of dicts in OpenAi chat format\n",
    "    \"\"\"\n",
    "\n",
    "    message_history = [\n",
    "                        {\n",
    "                            \"role\": \"system\",\n",
    "                            \"content\": system_message\n",
    "                        },\n",
    "                        {\n",
    "                            \"role\": \"user\",\n",
    "                            \"content\": user_input\n",
    "                        }\n",
    "                    ]\n",
    "\n",
    "    return message_history\n",
    "\n"
   ]
  },
  {
   "cell_type": "code",
   "execution_count": 8,
   "metadata": {
    "colab": {
     "base_uri": "https://localhost:8080/"
    },
    "id": "sr9MDRB2LKf2",
    "outputId": "0feeb207-1660-4695-b051-cb46e8916a40"
   },
   "outputs": [
    {
     "name": "stdout",
     "output_type": "stream",
     "text": [
      "some-value\n"
     ]
    }
   ],
   "source": [
    "def replace_items_in_string(input_string):\n",
    "\n",
    "    \"\"\"\n",
    "    Sometimes models produce json style output strings that cannot be parsed.\n",
    "    This functon extracts the \"value\" from the json string.\n",
    "    Extracts the value from a json string.\n",
    "    Works only if the json string has one key/value pair.\n",
    "    \"\"\"\n",
    "\n",
    "    # The items in this list get replaced with nothing.\n",
    "    # The key needs to be added to this list.\n",
    "    items_to_replace = [\"```\", \"json\", \"{\", \"}\", '\"email_draft\": \"',\n",
    "                        '\"translation\": \"', '\"#\"', '\"category\": \"', '\"router_decision\": \"', \"\\\\r\"]\n",
    "\n",
    "    modified_string = input_string\n",
    "    for item in items_to_replace:\n",
    "        regex = re.compile(re.escape(item))  # Create a regex pattern for each item\n",
    "        modified_string = regex.sub(\"\", modified_string)  # Replace item with an empty string\n",
    "\n",
    "    modified_string = modified_string.strip()\n",
    "\n",
    "    # Slice to get the string from the start up to the second last character\n",
    "    if len(modified_string) > 1:\n",
    "        modified_string = modified_string[:-1]\n",
    "\n",
    "\n",
    "    return modified_string\n",
    "\n",
    "\n",
    "\n",
    "# Example usage\n",
    "input_string = '{\"email_draft\": \"some-value\"}'\n",
    "print(replace_items_in_string(input_string))"
   ]
  },
  {
   "cell_type": "markdown",
   "metadata": {
    "id": "0reljPhbezOM"
   },
   "source": [
    "# Set up the LLM"
   ]
  },
  {
   "cell_type": "code",
   "execution_count": 9,
   "metadata": {},
   "outputs": [],
   "source": [
    "# Function to separate the thinking and the response\n",
    "\n",
    "def process_response(text):\n",
    "    \n",
    "    text1 = text.split('</think>')[0]\n",
    "    text2 = text.split('</think>')[1]\n",
    "    \n",
    "    thinking_text = text1 + '</think>'\n",
    "    response_text = text2.strip()\n",
    "\n",
    "    return thinking_text, response_text"
   ]
  },
  {
   "cell_type": "code",
   "execution_count": 10,
   "metadata": {},
   "outputs": [
    {
     "name": "stdout",
     "output_type": "stream",
     "text": [
      "My name is Molly! It's nice to meet you. 😊\n"
     ]
    }
   ],
   "source": [
    "def make_llm_api_call(message_history):\n",
    "\n",
    "    model_name = MODEL_NAME\n",
    "\n",
    "    response: ChatResponse = chat(model=model_name, \n",
    "                                  messages=message_history,\n",
    "                                )\n",
    "\n",
    "    output_text = response['message']['content']\n",
    "\n",
    "    #thinking_text, response_text = process_response(output_text)\n",
    "\n",
    "    #print(thinking_text)\n",
    "\n",
    "    return output_text\n",
    "\n",
    "\n",
    "# Example\n",
    "\n",
    "system_message = \"Your name is Molly.\"\n",
    "user_message = \"What's your name?\"\n",
    "\n",
    "message_history = create_message_history(system_message, user_message)\n",
    "\n",
    "response_text = make_llm_api_call(message_history)\n",
    "\n",
    "print(response_text)\n",
    "\n",
    "#print(response['message']['content'])"
   ]
  },
  {
   "cell_type": "markdown",
   "metadata": {
    "id": "ShdYyu_Ne7R2"
   },
   "source": [
    "# Set up the tools\n",
    "\n"
   ]
  },
  {
   "cell_type": "code",
   "execution_count": 11,
   "metadata": {
    "colab": {
     "base_uri": "https://localhost:8080/"
    },
    "id": "JDTLM9gme7ph",
    "outputId": "bde89d48-7f6e-43eb-f792-bb4e7423b5d9"
   },
   "outputs": [
    {
     "name": "stdout",
     "output_type": "stream",
     "text": [
      "{'query': 'How much does a bulldog weigh?', 'follow_up_questions': None, 'answer': None, 'images': [], 'results': [{'url': 'https://www.dimensions.com/element/dogs-bulldog', 'title': 'Bulldog Dimensions & Drawings', 'content': 'A typical Bulldog weighs between 40-55 lb (18-25 kg) and has a lifespan of roughly 8-10 years.', 'score': 0.90907925, 'raw_content': None}, {'url': 'https://www.reddit.com/r/Bulldogs/comments/1adz03m/what_does_your_bulldog_weigh/', 'title': 'What does your Bulldog weigh?', 'content': \"Average weight I believe is 55 and 50 for males and females but they naturally vary. That's just for regular English bulldogs.\", 'score': 0.843393, 'raw_content': None}], 'response_time': 0.86, 'request_id': 'c140bb2f-44ba-42ab-8c03-9b32f10365b4'}\n"
     ]
    }
   ],
   "source": [
    "def run_tavily_search(query, num_results=5):\n",
    "\n",
    "    \"\"\"\n",
    "    Uses the Tavily API to run a web search\n",
    "    Args:\n",
    "        query (str): The user query\n",
    "        num_results (int): Num search results\n",
    "    Returns:\n",
    "        tav_response (json string): The search results in json format\n",
    "    \"\"\"\n",
    "\n",
    "    # For basic search:\n",
    "    tav_response = tavily_client.search(query=query, max_results=num_results)\n",
    "\n",
    "    return tav_response\n",
    "\n",
    "\n",
    "\n",
    "# Example\n",
    "\n",
    "query = \"How much does a bulldog weigh?\"\n",
    "\n",
    "results = run_tavily_search(query, num_results=2)\n",
    "\n",
    "# Use this str output in the system message example below\n",
    "# Use this instead of the Eisenhower example\n",
    "print(results)"
   ]
  },
  {
   "cell_type": "markdown",
   "metadata": {
    "id": "kGZoKXk4fDX4"
   },
   "source": [
    "# Set up the Agents"
   ]
  },
  {
   "cell_type": "code",
   "execution_count": 12,
   "metadata": {
    "colab": {
     "base_uri": "https://localhost:8080/"
    },
    "id": "c67LzbXufDJc",
    "outputId": "d56e19e4-47e5-452a-c7c5-ae36b81dc8a4"
   },
   "outputs": [
    {
     "name": "stdout",
     "output_type": "stream",
     "text": [
      "---EMAIL CAT AGENT---\n",
      "Email category: customer_feedback\n"
     ]
    }
   ],
   "source": [
    "def run_email_cat_agent(email):\n",
    "\n",
    "    print(\"---EMAIL CAT AGENT---\")\n",
    "\n",
    "    system_message = \"\"\"\n",
    "    You are a Email Categorizer Agent, You are a master at understanding what a customer wants when they write an email and are able to categorize it in a useful way.\n",
    "\n",
    "    You will be provided with an EMAIL. Conduct a comprehensive analysis of the email provided and categorize into one of the following categories:\n",
    "    price_equiry - used when someone is asking for information about pricing \\\n",
    "    customer_complaint - used when someone is complaining about something \\\n",
    "    product_enquiry - used when someone is asking for information about a product feature, benefit or service but not about pricing \\\\\n",
    "    customer_feedback - used when someone is giving feedback about a product \\\n",
    "    off_topic when it doesnt relate to any other category \\\n",
    "\n",
    "    Output a single category only from the types ('price_equiry', 'customer_complaint', 'product_enquiry', 'customer_feedback', 'off_topic').\n",
    "    Format your output as a JSON string with a key named \"category\".\n",
    "    eg:\n",
    "    {\n",
    "    \"category\": \"price_enquiry\"\n",
    "    }\n",
    "    \"\"\"\n",
    "\n",
    "    # Create the \"user\" role content\n",
    "    input_text = f\"\"\"\n",
    "    EMAIL: {email}\n",
    "    \"\"\"\n",
    "\n",
    "    # Create the message history that includes system and user roles\n",
    "    message_history = create_message_history(system_message, input_text)\n",
    "\n",
    "    # Prompt the llm\n",
    "    response = make_llm_api_call(message_history)\n",
    "\n",
    "    # Extract the response from the json string\n",
    "    response = replace_items_in_string(response)\n",
    "\n",
    "    print(\"Email category:\", response)\n",
    "\n",
    "    return response\n",
    "\n",
    "\n",
    "# Example\n",
    "\n",
    "email1 = \"\"\"HI there, \\n\n",
    "I am emailing to say that I had a wonderful stay at your resort last week. \\n\n",
    "\n",
    "I really appreaciate what your staff did\n",
    "\n",
    "Thanks,\n",
    "Paul\n",
    "\"\"\"\n",
    "\n",
    "email2 = \"\"\"Good day,\n",
    "I would like to make a booking for a haircut.\n",
    "Thanks,\n",
    "George\n",
    "\"\"\"\n",
    "\n",
    "email3 = \"\"\"Good day,\n",
    "Do you still have rooms available on Christmas day?\n",
    "Thanks,\n",
    "George\n",
    "\"\"\"\n",
    "\n",
    "email_cat = run_email_cat_agent(email1)\n",
    "\n",
    "#print(email_cat)"
   ]
  },
  {
   "cell_type": "code",
   "execution_count": 13,
   "metadata": {
    "colab": {
     "base_uri": "https://localhost:8080/"
    },
    "id": "NHOvD12NfDHX",
    "outputId": "a101c3c4-0402-4e08-d86a-2716a6c078f0"
   },
   "outputs": [
    {
     "name": "stdout",
     "output_type": "stream",
     "text": [
      "---EMAIL CAT AGENT---\n",
      "Email category: customer_feedback\n",
      "---ROUTER AGENT---\n",
      "Router decision: to_email_writer_agent\n"
     ]
    }
   ],
   "source": [
    "def run_router_agent(email, email_cat):\n",
    "\n",
    "    print(\"---ROUTER AGENT---\")\n",
    "\n",
    "    system_message = \"\"\"\n",
    "    You are an expert at reading the initial email and routing web search or directly to a draft email. \\n\n",
    "    You will be provided with a CUSTOMER_EMAIL and an EMAIL_CATEGORY.\n",
    "\n",
    "    Use the following criteria to decide how to route the email: \\n\\n\n",
    "\n",
    "    If the initial email only requires a simple response choose 'to_email_writer_agent'.\n",
    "    If the email is just saying thank you etc then choose 'to_email_writer_agent'.\n",
    "    Otherwise, use to_research_agent.\n",
    "\n",
    "    Give a binary choice 'to_research_agent' or 'to_email_writer_agent'. Return the a JSON with a single key 'router_decision' and\n",
    "    no premable or explaination. Use both the initial email and the email category to make your decision.\n",
    "    \"\"\"\n",
    "\n",
    "    input = f\"\"\"\n",
    "    CUSTOMER_EMAIL: {email}\n",
    "    EMAIL_CATEGORY: {email_cat}\n",
    "    \"\"\"\n",
    "\n",
    "    # Create the message history that includes system and user roles\n",
    "    message_history = create_message_history(system_message, input)\n",
    "\n",
    "    # Prompt the llm\n",
    "    response = make_llm_api_call(message_history)\n",
    "\n",
    "    # Extract the response from the json string\n",
    "    response = replace_items_in_string(response)\n",
    "\n",
    "    print(\"Router decision:\", response)\n",
    "\n",
    "    return response\n",
    "\n",
    "\n",
    "\n",
    "# Example\n",
    "\n",
    "email1 = \"\"\"HI there, \\n\n",
    "I am emailing to say that I had a wonderful stay at your resort last week. \\n\n",
    "\n",
    "I really appreaciate what your staff did\n",
    "\n",
    "Thanks,\n",
    "Paul\n",
    "\"\"\"\n",
    "\n",
    "email2 = \"\"\"HI there, \\n\n",
    "I am emailing to say that I had a wonderful stay at your resort last week. \\n\n",
    "\n",
    "I really appreaciate what your staff did. \n",
    "\n",
    "By the way, when is the peak tourist season at your resort?\n",
    "\n",
    "Thanks,\n",
    "Paul\n",
    "\"\"\"\n",
    "\n",
    "email = email1\n",
    "\n",
    "email_cat = run_email_cat_agent(email)\n",
    "\n",
    "router_decision = run_router_agent(email, email_cat)\n",
    "\n",
    "#router_decision"
   ]
  },
  {
   "cell_type": "code",
   "execution_count": 14,
   "metadata": {
    "colab": {
     "base_uri": "https://localhost:8080/"
    },
    "id": "Zj3CJ1q_nGsz",
    "outputId": "b9962004-4075-4d60-9b20-64bbc0c396a9"
   },
   "outputs": [
    {
     "name": "stdout",
     "output_type": "stream",
     "text": [
      "---EMAIL CAT AGENT---\n",
      "Email category: customer_complaint\n",
      "---RESEARCH AGENT---\n",
      "Search keywords:\n",
      " ['Arizona weather April', 'average sunshine Arizona April', 'Arizona climate April', 'typical weather Arizona April', 'cloud cover Arizona April']\n",
      "Running tavily search...\n",
      "Research complete.\n"
     ]
    }
   ],
   "source": [
    "def run_research_agent(email, email_cat):\n",
    "\n",
    "    print(\"---RESEARCH AGENT---\")\n",
    "\n",
    "    system_message = \"\"\"\n",
    "    You are a master at working out the best keywords to search for in a web search to get the best info for the customer.\n",
    "\n",
    "    given the CUSTOMER_EMAIL and EMAIL_CATEGORY. Work out the best keywords that will find the best\n",
    "    info for helping to write a response to the customer email.\n",
    "\n",
    "    Return a JSON with a single key 'keywords' with no more than 5 keywords and no premable or explaination.\n",
    "    \"\"\"\n",
    "\n",
    "    input = f\"\"\"\n",
    "    CUSTOMER_EMAIL: {email}\n",
    "    EMAIL_CATEGORY: {email_cat}\n",
    "    \"\"\"\n",
    "\n",
    "    message_history = create_message_history(system_message, input)\n",
    "\n",
    "    response = make_llm_api_call(message_history)\n",
    "\n",
    "    response = response.replace('```json', '')\n",
    "    response = response.replace('```', '')\n",
    "    response = response.strip()\n",
    "\n",
    "    response = json.loads(response)\n",
    "\n",
    "    keywords_list = (response['keywords'])\n",
    "\n",
    "    # Run searches using the keywords\n",
    "\n",
    "    print(\"Search keywords:\\n\", keywords_list)\n",
    "    print(\"Running tavily search...\")\n",
    "\n",
    "    research_info_list = []\n",
    "\n",
    "    for query in keywords_list:\n",
    "\n",
    "        results = run_tavily_search(query, num_results=2)\n",
    "        research_info_list.append(results)\n",
    "\n",
    "    print(\"Research complete.\")\n",
    "\n",
    "    return research_info_list\n",
    "\n",
    "\n",
    "\n",
    "\n",
    "# Example\n",
    "\n",
    "email = \"\"\"HI there, \\n\n",
    "I am emailing to say that the resort weather was way to cloudy and overcast. \\n\n",
    "I wanted to write a song called 'Here comes the sun but it never came'\n",
    "\n",
    "What should be the weather in Arizona in April?\n",
    "\n",
    "I really hope you fix this next time.\n",
    "\n",
    "Thanks,\n",
    "George\n",
    "\"\"\"\n",
    "\n",
    "email_cat = run_email_cat_agent(email)\n",
    "\n",
    "research_list = run_research_agent(email, email_cat)\n",
    "\n",
    "#research_list[0]"
   ]
  },
  {
   "cell_type": "code",
   "execution_count": null,
   "metadata": {},
   "outputs": [],
   "source": []
  },
  {
   "cell_type": "code",
   "execution_count": 15,
   "metadata": {
    "colab": {
     "base_uri": "https://localhost:8080/"
    },
    "id": "qwrCN5rBnGcy",
    "outputId": "9c2d617e-1a05-4843-c88b-e1b477007e97"
   },
   "outputs": [
    {
     "name": "stdout",
     "output_type": "stream",
     "text": [
      "---EMAIL CAT AGENT---\n",
      "Email category: customer_complaint\n",
      "---RESEARCH AGENT---\n",
      "Search keywords:\n",
      " ['Arizona weather April', 'average sunshine Arizona April', 'Arizona climate April', 'weather conditions Arizona April', 'cloud cover Arizona April']\n",
      "Running tavily search...\n",
      "Research complete.\n",
      "---EMAIL WRITER AGENT---\n",
      "Email writing complete.\n",
      "Final email:\n",
      "\n",
      " Dear George,\\n\\nThank you for reaching out to us. We're so sorry to hear that the weather wasn's what you hoped for during your stay in Arizona. We understand it can be disappointing when the weather doesn’t cooperate with your plans, especially when you were inspired to write a song about it!\\n\\nApril in Arizona typically sees average daytime highs around 29°C (84°F) with about 12 hours of sunshine per day. You can expect a mix of sunny days, and sometimes there are days with cloud cover or even a little rain. While we can't directly control the weather, we certainly appreciate your feedback and will share it with our team as we review our communications about Arizona's climate. \\n\\nWe hope you've been able to continue enjoying your creative endeavors, and we hope to welcome you back to Arizona again soon for a sunnier experience.\\n\\nSincerely,\\nSarah, Resident Manager\n"
     ]
    }
   ],
   "source": [
    "def run_email_writer_agent(email, email_cat, research_info_list):\n",
    "\n",
    "    print(\"---EMAIL WRITER AGENT---\")\n",
    "\n",
    "    system_message = \"\"\"\n",
    "    You are the Email Writer Agent take the CUSTOMER_EMAIL below  from a human that has emailed our company email address, the email_category \\\n",
    "    that the categorizer agent gave it and the research from the research agent and \\\n",
    "    write a helpful email in a thoughtful and friendly way.\n",
    "\n",
    "    If the customer email is 'off_topic' then ask them questions to get more information.\n",
    "    If the customer email is 'customer_complaint' then try to assure we value them and that we are addressing their issues.\n",
    "    If the customer email is 'customer_feedback' then try to assure we value them and that we are addressing their issues.\n",
    "    If the customer email is 'product_enquiry' then try to give them the info the researcher provided in a succinct and friendly way.\n",
    "    If the customer email is 'price_equiry' then try to give the pricing info they requested.\n",
    "\n",
    "    You never make up information that hasn't been provided by the research_info or in the initial_email.\n",
    "    Always sign off the emails in appropriate manner and from Sarah the Resident Manager.\n",
    "\n",
    "    Return a JSON string with a single key 'email_draft' and no premable or explaination.\n",
    "    \"\"\"\n",
    "\n",
    "    input = f\"\"\"\n",
    "    CUSTOMER_EMAIL: {email}\n",
    "    EMAIL_CATEGORY: {email_cat}\n",
    "    RESEARCH_INFO: {research_info_list}\n",
    "    \"\"\"\n",
    "\n",
    "    # Create the message history that includes system and user roles\n",
    "    message_history = create_message_history(system_message, input)\n",
    "\n",
    "    # Prompt the llm\n",
    "    response = make_llm_api_call(message_history)\n",
    "\n",
    "    # Extract the response from the json string\n",
    "    response = replace_items_in_string(response)\n",
    "\n",
    "    # Remove leading and trailing spaces\n",
    "    response = response.strip()\n",
    "\n",
    "    print(\"Email writing complete.\")\n",
    "    print(\"Final email:\\n\\n\", response)\n",
    "\n",
    "    return response\n",
    "\n",
    "\n",
    "\n",
    "# Example\n",
    "\n",
    "\n",
    "email = \"\"\"HI there, \\n\n",
    "I am emailing to say that the resort weather was way to cloudy and overcast. \\n\n",
    "I wanted to write a song called 'Here comes the sun but it never came'\n",
    "\n",
    "What should be the weather in Arizona in April?\n",
    "\n",
    "I really hope you fix this next time.\n",
    "\n",
    "Thanks,\n",
    "George\n",
    "\"\"\"\n",
    "\n",
    "email_cat = run_email_cat_agent(email)\n",
    "\n",
    "research_list = run_research_agent(email, email_cat)\n",
    "\n",
    "final_email = run_email_writer_agent(email, email_cat, research_list)\n",
    "\n",
    "#print(final_email)\n"
   ]
  },
  {
   "cell_type": "code",
   "execution_count": null,
   "metadata": {
    "id": "UQDuCorPdXrz"
   },
   "outputs": [],
   "source": []
  },
  {
   "cell_type": "markdown",
   "metadata": {
    "id": "9VHgKWShdUqp"
   },
   "source": [
    "# Run the system"
   ]
  },
  {
   "cell_type": "code",
   "execution_count": 17,
   "metadata": {
    "colab": {
     "base_uri": "https://localhost:8080/"
    },
    "id": "PE78ZwX-ZXKl",
    "outputId": "5a4b2a9b-d196-4212-bf3f-de7d9a4ad3cf"
   },
   "outputs": [
    {
     "name": "stdout",
     "output_type": "stream",
     "text": [
      "---EMAIL CAT AGENT---\n",
      "Email category: customer_complaint\n",
      "---ROUTER AGENT---\n",
      "Router decision: to_research_agent\n",
      "---RESEARCH AGENT---\n",
      "Search keywords:\n",
      " ['arizona weather april', 'average sunshine hours arizona', 'arizona weather statistics april', 'arizona climate april', 'arizona weather patterns']\n",
      "Running tavily search...\n",
      "Research complete.\n",
      "---EMAIL WRITER AGENT---\n",
      "Email writing complete.\n",
      "Final email:\n",
      "\n",
      " Dear George,\\n\\nThank you for your email. I'm so sorry to hear you weren’s happy with the weather during your stay. I understand how disappointing it can be when the weather doesn’t cooperate with your plans, especially when you were hoping to write a song inspired by the sun!\\n\\nApril in Arizona typically sees average highs around 87°F (30°C) and average lows around 57°F (14°C), and generally enjoys a good amount of sunshine – approximately 11 hours of daylight and a good dose of sunshine each day. It sounds like you experienced a less sunny period. While we can't control the weather, we appreciate you bringing this to our attention.\\n\\nWe hope you're able to find the sunshine you were looking for and perhaps even find inspiration elsewhere. We hope to welcome you back again soon.\\n\\nSincerely,\\nSarah, Resident Manager\n"
     ]
    }
   ],
   "source": [
    "email1 = \"\"\"HI there, \\n\n",
    "I am emailing to say that the resort weather was way to cloudy and overcast. \\n\n",
    "I wanted to write a song called 'Here comes the sun but it never came'\n",
    "\n",
    "What should be the weather in Arizona in April?\n",
    "\n",
    "I really hope you fix this next time.\n",
    "\n",
    "Thanks,\n",
    "George\n",
    "\"\"\"\n",
    "\n",
    "email2 = \"\"\"HI there, \\n\n",
    "I am emailing to say that I had a wonderful stay at your resort last week. \\n\n",
    "\n",
    "I really appreaciate what your staff did\n",
    "\n",
    "Thanks,\n",
    "Paul\n",
    "\"\"\"\n",
    "\n",
    "\n",
    "# Initialize variables\n",
    "email = email1\n",
    "research_list = \"\"\n",
    "\n",
    "email_cat = run_email_cat_agent(email)\n",
    "\n",
    "router_decision = run_router_agent(email, email_cat)\n",
    "\n",
    "if router_decision == \"to_research_agent\":\n",
    "    research_list = run_research_agent(email, email_cat)\n",
    "\n",
    "final_email = run_email_writer_agent(email, email_cat, research_list)"
   ]
  },
  {
   "cell_type": "code",
   "execution_count": null,
   "metadata": {
    "id": "AkiH_dSTZXHO"
   },
   "outputs": [],
   "source": []
  },
  {
   "cell_type": "code",
   "execution_count": null,
   "metadata": {
    "id": "fZLpFq4tvmG7"
   },
   "outputs": [],
   "source": []
  }
 ],
 "metadata": {
  "colab": {
   "provenance": []
  },
  "kernelspec": {
   "display_name": "Python 3 (ipykernel)",
   "language": "python",
   "name": "python3"
  },
  "language_info": {
   "codemirror_mode": {
    "name": "ipython",
    "version": 3
   },
   "file_extension": ".py",
   "mimetype": "text/x-python",
   "name": "python",
   "nbconvert_exporter": "python",
   "pygments_lexer": "ipython3",
   "version": "3.10.17"
  }
 },
 "nbformat": 4,
 "nbformat_minor": 4
}
